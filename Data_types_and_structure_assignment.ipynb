{
  "nbformat": 4,
  "nbformat_minor": 0,
  "metadata": {
    "colab": {
      "provenance": []
    },
    "kernelspec": {
      "name": "python3",
      "display_name": "Python 3"
    },
    "language_info": {
      "name": "python"
    }
  },
  "cells": [
    {
      "cell_type": "markdown",
      "source": [
        "# Data types and structures\n"
      ],
      "metadata": {
        "id": "SQnCYPm8eIRI"
      }
    },
    {
      "cell_type": "markdown",
      "source": [
        "1. What are data structures, and why are they important?\n",
        "   - A data structure is a way of organizing, storing, and managing data in a\n",
        "   computer so that it can be accessed and modified efficiently.\n",
        "   Data structure is important because of following elements :\n",
        "   a. Efficient Data Handling\n",
        "   b. Optimized Performance\n",
        "   c. Scalability\n",
        "   d. Better Problem Solving\n",
        "   e. Memory Management\n",
        "   f. Foundation for Algorithms\n",
        "\n",
        "\n",
        "2. Explain the difference between mutable and immutable data types with examples.\n",
        "   - Mutable data types can be changed after creation, while immutable data types cannot. When a mutable object is modified, its memory address remains the same, whereas modifying an immutable object creates a new memory address.\n",
        "   Examples:\n",
        "  Mutable: list, dict, set (e.g., a list can be modified by adding or removing elements).\n",
        "  Immutable: int, float, str, tuple (e.g., modifying a string creates a new string object instead of changing the existing one).\n",
        "\n",
        "\n",
        "3. What are the main differences between lists and tuples in Python?\n",
        "   - a. Lists are mutable, meaning their elements can be modified, while tuples are immutable, meaning they cannot be changed after creation.\n",
        "   b. Lists are defined using square brackets [], whereas tuples use parentheses ().\n",
        "   c. lists are slower and consume more memory compared to tuples, which are faster and more memory-efficient.\n",
        "   d. Lists have more built-in methods for modification, such as .append() and .remove(), while tuples have limited methods like .count() and .index().\n",
        "   e. Lists are used for dynamic data, whereas tuples are preferred for fixed or constant data that should not be modified.\n",
        "\n",
        "\n",
        "4. Describe how dictionaries store data.\n",
        "   - Dictionaries in Python store data as key-value pairs using a hash table implementation. Each key is unique and acts as an identifier for its corresponding value. Python uses a hashing function to generate a unique index for each key, allowing for fast retrieval, insertion, and deletion of values.\n",
        "\n",
        "5. Why might you use a set instead of a list in Python?\n",
        "   - You might use a set instead of a list in Python when:\n",
        "   a. Uniqueness of Elements: Sets automatically remove duplicates, ensuring that all elements are unique. If you need to store only unique items, a set is more efficient than a list.\n",
        "   b. Faster Lookups: Sets use a hash table to store data, making element lookup faster\n",
        "   c. Mathematical Set Operations: Sets support mathematical set operations like union, intersection, difference, and symmetric difference, which are not directly available with lists.\n",
        "   d. Order Does Not Matter: Sets are unordered, meaning the order of elements doesn't matter. If you don't care about the order of elements, a set is more efficient and simpler.\n",
        "\n",
        "6. What is a string in Python, and how is it different from a list?\n",
        "   - a. A string in Python is a sequence of characters enclosed in single (') or double (\") quotes. It is an immutable data type, meaning once it is created, its contents cannot be modified.\n",
        "   b. A list, on the other hand, is an ordered collection of items that can be of any data type (including strings, numbers, or other lists). Unlike strings, lists are mutable, meaning their elements can be changed, added, or removed after creation.\n",
        "   c. A string is a sequence of characters that cannot be changed once created, while a list is an ordered collection that allows for modification.\n",
        "\n",
        "7. How do tuples ensure data integrity in Python?\n",
        "   - Tuples ensure data integrity in Python by being immutable, meaning once a tuple is created, its contents cannot be changed. This immutability guarantees that the data stored in a tuple remains consistent throughout its lifetime.\n",
        "   Because tuples cannot be altered, there is no risk of accidental modifications, which helps maintain the integrity of the data. This makes tuples ideal for storing fixed data, such as coordinates, dates, or constant values that should not be changed during program execution.\n",
        "\n",
        "\n",
        "8. What is a hash table, and how does it relate to dictionaries in Python?\n",
        "   - a. A hash table is a data structure that stores data in an associative array format, where keys are mapped to values using a hash function. The hash function takes a key and computes an index (or hash code) in an array where the value associated with that key is stored. This allows for constant-time access to retrieve or modify the value associated with a key.\n",
        "   b. In Python, dictionaries are implemented using hash tables. When you create a dictionary, Python uses a hash table to map the dictionary’s keys to their respective values. Each key in the dictionary is hashed, and the hash value determines the location where the corresponding value is stored.\n",
        "\n",
        "9. Can lists contain different data types in Python?\n",
        "   - Yes, lists in Python can contain elements of different data types. A Python list is an ordered collection that can store a variety of data types, including integers, strings, floats, other lists, and even objects of custom classes. There is no restriction on the type of elements within a list, allowing for great flexibility.\n",
        "   Lists in Python are heterogeneous, meaning they can store elements of mixed data types, making them versatile for a variety of tasks.\n",
        "\n",
        "10. Explain why strings are immutable in Python.\n",
        "    - Strings are immutable in Python for several reasons related to performance, memory efficiency, and data integrity:\n",
        "     a. Efficiency in Memory Management:\n",
        "     Immutable objects like strings can be shared between different variables without the need for copying. Since strings are often used in large numbers, making them immutable allows Python to reuse the same memory space for identical string values, reducing memory usage and improving performance.\n",
        "     b. Security and Data Integrity:\n",
        "     Since strings cannot be changed after creation, their data integrity is ensured. This is important when passing strings around in a program, as you don’t need to worry about accidental modifications.\n",
        "\n",
        "\n",
        "11. What advantages do dictionaries offer over lists for certain tasks.\n",
        "    - Dictionaries offer several advantages over lists for certain tasks due to their unique characteristics:\n",
        "     a. Faster Lookups:\n",
        "     Dictionaries provide constant-time access (O(1) on average) to values when you know the key, making them much faster than lists for tasks where quick lookups are required. In contrast, lists require linear-time search (O(n)) to find an element unless you know its index.\n",
        "     b. Key-Value Pair Storage:\n",
        "     Dictionaries store data as key-value pairs, which makes them ideal when you need to associate each element with a unique identifier (key). Lists, on the other hand, only store elements in an ordered sequence, without an explicit key.\n",
        "     c. Uniqueness of Keys:\n",
        "     A dictionary automatically enforces uniqueness of keys, meaning there cannot be duplicate keys. This feature is helpful when you need to ensure each item has a unique identifier. Lists allow duplicate elements, which can be problematic in such cases.\n",
        "\n",
        "12. Describe a scenario where using a tuple would be preferable over a list.\n",
        "    - A tuple would be preferable over a list is when storing configuration settings that should remain constant throughout the program's execution.\n",
        "     Scenario - Storing Configuration Settings:\n",
        "     Imagine you're building a program that reads configuration settings, such as maximum file size or supported file types, which should not change once the application starts. Using a tuple ensures that these settings cannot be accidentally modified later, providing more reliability and safety in the program.\n",
        "     Tuples are preferable here because -\n",
        "     a. Immutability: Configuration settings, like file size limits or allowed extensions, should remain unchanged during program execution to ensure consistent behavior.\n",
        "     b. Reliability: Using a tuple guarantees that the configuration values won't be accidentally modified, unlike lists where the values could be changed or overwritten.\n",
        "     c. Efficiency: Tuples are more memory-efficient and faster to iterate over than lists, especially when dealing with small sets of constant data.\n",
        "\n",
        "13. How do sets handle duplicate values in Python?\n",
        "    - In Python, a set automatically removes duplicate values. A set is an unordered collection of unique elements, meaning it will only store one instance of each value, even if the same value is added multiple times.\n",
        "     When you attempt to add a duplicate value to a set, the set will ignore the duplicate and only keep the first occurrence of that value.\n",
        "\n",
        "14. How does the “in” keyword work differently for lists and dictionaries?\n",
        "    - The in keyword is used to check for the presence of an element, but it works differently for lists and dictionaries in Python due to their underlying data structures.\n",
        "     a. For Lists:\n",
        "     The in keyword checks if a value is present in the list. It will return True if the exact value is found anywhere in the list.\n",
        "     b. For Dictionaries:\n",
        "     The in keyword checks for the presence of keys in the dictionary, not the values. It returns True if the key exists in the dictionary.\n",
        "\n",
        "15. Can you modify the elements of a tuple? Explain why or why not?\n",
        "    - No, you cannot modify the elements of a tuple in Python. This is because tuples are immutable, meaning once a tuple is created, its elements cannot be changed, added, or removed.\n",
        "     Why we cant modify the elements of tuple -\n",
        "     a. Immutability: Tuples are designed to be immutable for reasons like performance optimization, data integrity, and safety. The immutability ensures that the data in the tuple cannot be altered by mistake, providing a level of reliability, especially when tuples are used as keys in dictionaries or stored in sets.\n",
        "     b. Efficiency: Because tuples cannot be modified, they can be stored more efficiently in memory, and Python can optimize their use. Additionally, immutable objects allow for hashing, which means they can be used as keys in dictionaries or as elements in sets.\n",
        "\n",
        "16. What is a nested dictionary, and give an example of its use case?\n",
        "    - A nested dictionary is a dictionary that contains other dictionaries as its values. It allows you to store hierarchical or multi-level data in a structured way, making it useful for representing complex relationships where each key points to another dictionary.\n",
        "     Example: Storing Information About Employees\n",
        "     employees = {\n",
        "    \"emp_001\": {\n",
        "        \"name\": \"Alice\",\n",
        "        \"age\": 30,\n",
        "        \"department\": \"HR\",\n",
        "        \"position\": \"Manager\"\n",
        "    },\n",
        "    \"emp_002\": {\n",
        "        \"name\": \"Bob\",\n",
        "        \"age\": 25,\n",
        "        \"department\": \"Finance\",\n",
        "        \"position\": \"Analyst\"\n",
        "    },\n",
        "    \"emp_003\": {\n",
        "        \"name\": \"Charlie\",\n",
        "        \"age\": 35,\n",
        "        \"department\": \"IT\",\n",
        "        \"position\": \"Developer\"\n",
        "    }\n",
        "}\n",
        "\n",
        "   print(employees[\"emp_001\"][\"name\"])  \n",
        "   print(employees[\"emp_002\"][\"department\"])  \n",
        "\n",
        "17. Describe the time complexity of accessing elements in a dictionary.\n",
        "    - The time complexity of accessing elements in a dictionary in Python is O(1), on average. This means that retrieving a value by its key is done in constant time, regardless of the size of the dictionary.\n",
        "     Dictionaries in Python are implemented using hash tables, where each key is hashed to compute an index in an internal array. The value associated with the key is stored at that index. Since the hash function computes the index directly, accessing a value via its key is done in constant time.\n",
        "     the average-case time complexity of O(1) depends on the hash function and how well the dictionary's internal structure handles hash collisions (when different keys hash to the same index). In most cases, Python's dictionary implementation ensures good distribution of keys, leading to fast access times.\n",
        "\n",
        "18. In what situations are lists preferred over dictionaries?\n",
        "    - Lists are preferred over dictionaries in situations where:\n",
        "     a. Order Matters:\n",
        "     If the order of elements matters and you need to maintain the sequence, lists are ideal. Lists preserve the order of elements, whereas dictionaries did not guarantee order.\n",
        "     b. Index-Based Access:\n",
        "     When you need to access elements by their index rather than by key, lists are more appropriate. Lists allow for quick access using integer indices.\n",
        "     c. Duplicates are Allowed:\n",
        "     If your data can contain duplicate values, lists are better. Unlike dictionaries, which store only unique keys, lists allow multiple occurrences of the same element.\n",
        "     d. Simple Iteration:\n",
        "     Lists are often easier to iterate over when you're simply working with a collection of items, without needing to associate each item with a specific key.\n",
        "\n",
        "19. Why are dictionaries considered unordered, and how does that affect data retrieval?\n",
        "    - Dictionaries in Python are considered unordered because the elements are stored based on their hash values, not in any particular sequence.dictionaries are still conceptually unordered collections because the elements are not organized in a sequence or index like a list.\n",
        "     Affect on data retrieval:\n",
        "     a. Key-based Access:\n",
        "     The unordered nature of dictionaries does not affect data retrieval as long as you're accessing the elements using keys. The lookup time for retrieving a value by its key remains O(1) on average, regardless of the dictionary's internal order.\n",
        "     b. Iteration Over Keys:\n",
        "     When you iterate over a dictionary (e.g., for key in my_dict), the order in which keys and values are returned may vary depending on the version of Python. In Python 3.6 and earlier, the order of dictionary elements was unpredictable.\n",
        "\n",
        "20. Explain the difference between a list and a dictionary in terms of data retrieval.\n",
        "    - The main difference between a list and a dictionary in terms of data retrieval lies in how data is accessed and the underlying structure of the collection.\n",
        "     List:\n",
        "     a. Access Method: Data in a list is accessed using an index.\n",
        "     b. Time Complexity: Accessing an element by index in a list takes O(1) time, which is constant. However, if you need to find an element by its value, it requires O(n) time (linear search).\n",
        "     c. Use Case: Lists are suitable when you need to store a sequential collection of elements and access them by their position.\n",
        "     Dictionary:\n",
        "     a. Access Method: Data in a dictionary is accessed using a key, which is mapped to a corresponding value.\n",
        "     b. Time Complexity: Accessing an element by key in a dictionary is done in O(1) time on average, thanks to the hash table implementation, which allows constant-time lookups.\n",
        "     c. Use Case: Dictionaries are ideal when you need to store key-value pairs and retrieve values efficiently based on unique keys.\n",
        "\n",
        "\n",
        "\n",
        "\n",
        "\n",
        "\n"
      ],
      "metadata": {
        "id": "MoAA3P4FfO-q"
      }
    },
    {
      "cell_type": "code",
      "execution_count": 1,
      "metadata": {
        "colab": {
          "base_uri": "https://localhost:8080/"
        },
        "id": "04Ax_KfteFYE",
        "outputId": "40a60ad7-c31f-4f17-b695-cf8336b7fd16"
      },
      "outputs": [
        {
          "output_type": "stream",
          "name": "stdout",
          "text": [
            "ayush\n"
          ]
        }
      ],
      "source": [
        "# Write a code to create a string with your name and print it\n",
        "name = \"ayush\"\n",
        "print(name)\n"
      ]
    },
    {
      "cell_type": "code",
      "source": [
        "# Write a code to find the length of the string \"Hello World\"\n",
        "string = \"Hello World\"\n",
        "print(len(string))"
      ],
      "metadata": {
        "colab": {
          "base_uri": "https://localhost:8080/"
        },
        "id": "tKBF2KKk4XrF",
        "outputId": "48bdfb96-35ad-421c-a24c-554be89eae7b"
      },
      "execution_count": 2,
      "outputs": [
        {
          "output_type": "stream",
          "name": "stdout",
          "text": [
            "11\n"
          ]
        }
      ]
    },
    {
      "cell_type": "code",
      "source": [
        "# Write a code to slice the first 3 characters from the string \"Python Programming\"\n",
        "\n",
        "text = \"Python Programming\"\n",
        "sliced_text = text[:3]\n",
        "print(sliced_text)\n",
        "\n",
        "\n"
      ],
      "metadata": {
        "colab": {
          "base_uri": "https://localhost:8080/"
        },
        "id": "zgpEmcYT-dG6",
        "outputId": "6a889513-a9f2-4f2d-9f44-b0fcebfad33e"
      },
      "execution_count": 3,
      "outputs": [
        {
          "output_type": "stream",
          "name": "stdout",
          "text": [
            "Pyt\n"
          ]
        }
      ]
    },
    {
      "cell_type": "code",
      "source": [
        "# Write a code to convert the string \"hello\" to uppercase\n",
        "text = \"hello\"\n",
        "uppercase_text = text.upper()\n",
        "print(uppercase_text)\n"
      ],
      "metadata": {
        "colab": {
          "base_uri": "https://localhost:8080/"
        },
        "id": "VhLWboCD-4w_",
        "outputId": "8933e6bc-1fef-4f56-be1a-b04145cfcc09"
      },
      "execution_count": 4,
      "outputs": [
        {
          "output_type": "stream",
          "name": "stdout",
          "text": [
            "HELLO\n"
          ]
        }
      ]
    },
    {
      "cell_type": "code",
      "source": [
        "# Write a code to replace the word \"apple\" with \"orange\" in the string \"I like apple\"\n",
        "text = \"I like apple\"\n",
        "new_text = text.replace(\"apple\", \"orange\")\n",
        "print(new_text)"
      ],
      "metadata": {
        "colab": {
          "base_uri": "https://localhost:8080/"
        },
        "id": "OiPF_CF9_JyD",
        "outputId": "c4434609-dfe2-42ab-a108-6bfab9dd297e"
      },
      "execution_count": 5,
      "outputs": [
        {
          "output_type": "stream",
          "name": "stdout",
          "text": [
            "I like orange\n"
          ]
        }
      ]
    },
    {
      "cell_type": "code",
      "source": [
        "# Write a code to create a list with numbers 1 to 5 and print it.\n",
        "my_list = [1, 2, 3, 4, 5]\n",
        "print(my_list)"
      ],
      "metadata": {
        "colab": {
          "base_uri": "https://localhost:8080/"
        },
        "id": "twmLdWrc_jd2",
        "outputId": "63367537-5ddc-47f7-b7a7-072ba7aab81e"
      },
      "execution_count": 6,
      "outputs": [
        {
          "output_type": "stream",
          "name": "stdout",
          "text": [
            "[1, 2, 3, 4, 5]\n"
          ]
        }
      ]
    },
    {
      "cell_type": "code",
      "source": [
        "# Write a code to append the number 10 to the list [1, 2, 3, 4].\n",
        "my_list = [1, 2, 3, 4]\n",
        "my_list.append(10)\n",
        "print(my_list)"
      ],
      "metadata": {
        "colab": {
          "base_uri": "https://localhost:8080/"
        },
        "id": "GSDYRvxp_2kB",
        "outputId": "de542a02-a65a-4e22-dcd2-cc0084df4bf1"
      },
      "execution_count": 7,
      "outputs": [
        {
          "output_type": "stream",
          "name": "stdout",
          "text": [
            "[1, 2, 3, 4, 10]\n"
          ]
        }
      ]
    },
    {
      "cell_type": "code",
      "source": [
        "# Write a code to remove the number 3 from the list [1, 2, 3, 4, 5].\n",
        "my_list = [1, 2, 3, 4, 5]\n",
        "my_list.remove(3)\n",
        "print(my_list)"
      ],
      "metadata": {
        "colab": {
          "base_uri": "https://localhost:8080/"
        },
        "id": "-wvuBVEeAGIZ",
        "outputId": "267e0088-b329-490c-f422-354e61ad5a6b"
      },
      "execution_count": 8,
      "outputs": [
        {
          "output_type": "stream",
          "name": "stdout",
          "text": [
            "[1, 2, 4, 5]\n"
          ]
        }
      ]
    },
    {
      "cell_type": "code",
      "source": [
        "# Write a code to access the second element in the list ['a', 'b', 'c', 'd'].\n",
        "my_list = ['a', 'b', 'c', 'd']\n",
        "second_element = my_list[1]\n",
        "print(second_element)\n"
      ],
      "metadata": {
        "colab": {
          "base_uri": "https://localhost:8080/"
        },
        "id": "YNEju2txAQPU",
        "outputId": "84469c1d-163e-495a-ec5e-a47389e06a76"
      },
      "execution_count": 9,
      "outputs": [
        {
          "output_type": "stream",
          "name": "stdout",
          "text": [
            "b\n"
          ]
        }
      ]
    },
    {
      "cell_type": "code",
      "source": [
        "# Write a code to reverse the list [10, 20, 30, 40, 50].\n",
        "my_list = [10, 20, 30, 40, 50]\n",
        "reversed_list = my_list[::-1]\n",
        "print(reversed_list)\n"
      ],
      "metadata": {
        "colab": {
          "base_uri": "https://localhost:8080/"
        },
        "id": "71BWi9m4AkAL",
        "outputId": "c0d62ea8-55f4-4811-8c20-b06a11d1f396"
      },
      "execution_count": 10,
      "outputs": [
        {
          "output_type": "stream",
          "name": "stdout",
          "text": [
            "[50, 40, 30, 20, 10]\n"
          ]
        }
      ]
    },
    {
      "cell_type": "code",
      "source": [
        "#  Write a code to create a tuple with the elements 100, 200, 300 and print it.\n",
        "my_tuple = (100, 200, 300)\n",
        "print(my_tuple)"
      ],
      "metadata": {
        "colab": {
          "base_uri": "https://localhost:8080/"
        },
        "id": "QQ1xzd7JA3Wf",
        "outputId": "18d1dd1e-8df0-49a7-8132-1d3355df174f"
      },
      "execution_count": 11,
      "outputs": [
        {
          "output_type": "stream",
          "name": "stdout",
          "text": [
            "(100, 200, 300)\n"
          ]
        }
      ]
    },
    {
      "cell_type": "code",
      "source": [
        "#  Write a code to access the second-to-last element of the tuple ('red', 'green', 'blue', 'yellow').\n",
        "my_tuple = ('red', 'green', 'blue', 'yellow')\n",
        "second_to_last_element = my_tuple[-2]\n",
        "print(second_to_last_element)"
      ],
      "metadata": {
        "colab": {
          "base_uri": "https://localhost:8080/"
        },
        "id": "mZ_ueGJyBP55",
        "outputId": "ebcecc85-ddb5-48d9-faec-f12d3a3f53aa"
      },
      "execution_count": 12,
      "outputs": [
        {
          "output_type": "stream",
          "name": "stdout",
          "text": [
            "blue\n"
          ]
        }
      ]
    },
    {
      "cell_type": "code",
      "source": [
        "#  Write a code to find the minimum number in the tuple (10, 20, 5, 15).\n",
        "my_tuple = (10, 20, 5, 15)\n",
        "minimum_number = min(my_tuple)\n",
        "print(minimum_number)"
      ],
      "metadata": {
        "colab": {
          "base_uri": "https://localhost:8080/"
        },
        "id": "dagjpKF3Be8s",
        "outputId": "9b033b21-1b9f-4de6-f000-2ee3e224410a"
      },
      "execution_count": 13,
      "outputs": [
        {
          "output_type": "stream",
          "name": "stdout",
          "text": [
            "5\n"
          ]
        }
      ]
    },
    {
      "cell_type": "code",
      "source": [
        "#  Write a code to find the index of the element \"cat\" in the tuple ('dog', 'cat', 'rabbit').\n",
        "my_tuple = ('dog', 'cat', 'rabbit')\n",
        "index_of_cat = my_tuple.index('cat')\n",
        "print(index_of_cat)\n"
      ],
      "metadata": {
        "colab": {
          "base_uri": "https://localhost:8080/"
        },
        "id": "uuzoFnCpBsJx",
        "outputId": "c180da2c-8065-4dd0-fb99-3c74e81f4ea9"
      },
      "execution_count": 14,
      "outputs": [
        {
          "output_type": "stream",
          "name": "stdout",
          "text": [
            "1\n"
          ]
        }
      ]
    },
    {
      "cell_type": "code",
      "source": [
        "# Write a code to create a tuple containing three different fruits and check if \"kiwi\" is in it.\n",
        "fruits = (\"apple\", \"banana\", \"cherry\")\n",
        "if \"kiwi\" in fruits:\n",
        "    print(\"kiwi is in the tuple\")\n",
        "else:\n",
        "    print(\"kiwi is not in the tuple\")\n"
      ],
      "metadata": {
        "colab": {
          "base_uri": "https://localhost:8080/"
        },
        "id": "s3yygh5dB59B",
        "outputId": "d4e27cbc-6aad-4ff9-dafd-7c2ebf951a1b"
      },
      "execution_count": 15,
      "outputs": [
        {
          "output_type": "stream",
          "name": "stdout",
          "text": [
            "kiwi is not in the tuple\n"
          ]
        }
      ]
    },
    {
      "cell_type": "code",
      "source": [
        "#  Write a code to create a set with the elements 'a', 'b', 'c' and print it.\n",
        "my_set = {'a', 'b', 'c'}\n",
        "print(my_set)"
      ],
      "metadata": {
        "colab": {
          "base_uri": "https://localhost:8080/"
        },
        "id": "kaKHrRX8CRrZ",
        "outputId": "d036a53d-1b0a-4d1e-9167-fe02050537cc"
      },
      "execution_count": 16,
      "outputs": [
        {
          "output_type": "stream",
          "name": "stdout",
          "text": [
            "{'a', 'c', 'b'}\n"
          ]
        }
      ]
    },
    {
      "cell_type": "code",
      "source": [
        "# Write a code to clear all elements from the set {1, 2, 3, 4, 5}.\n",
        "my_set = {111, 112, 113, 114}\n",
        "my_set.clear()\n",
        "print(my_set)"
      ],
      "metadata": {
        "colab": {
          "base_uri": "https://localhost:8080/"
        },
        "id": "nURxiFQ_CVsZ",
        "outputId": "8a9749fe-5489-4f58-ca4d-5276313b9c45"
      },
      "execution_count": 18,
      "outputs": [
        {
          "output_type": "stream",
          "name": "stdout",
          "text": [
            "set()\n"
          ]
        }
      ]
    },
    {
      "cell_type": "code",
      "source": [
        "# Write a code to remove the element 4 from the set {1, 2, 3, 4}.\n",
        "my_set = {1, 2, 3, 4}\n",
        "my_set.remove(4)\n",
        "print(my_set)"
      ],
      "metadata": {
        "colab": {
          "base_uri": "https://localhost:8080/"
        },
        "id": "T65B1LU6CcGF",
        "outputId": "10701bcf-965e-4ca4-c28c-2abf01aa4f11"
      },
      "execution_count": 19,
      "outputs": [
        {
          "output_type": "stream",
          "name": "stdout",
          "text": [
            "{1, 2, 3}\n"
          ]
        }
      ]
    },
    {
      "cell_type": "code",
      "source": [
        "#  Write a code to find the union of two sets {1, 2, 3} and {3, 4, 5}.\n",
        "\n",
        "set1 = {1, 2, 3}\n",
        "set2 = {3, 4, 5}\n",
        "union_set = set1.union(set2)\n",
        "print(union_set)\n"
      ],
      "metadata": {
        "colab": {
          "base_uri": "https://localhost:8080/"
        },
        "id": "PGh_EVJfCnpb",
        "outputId": "a554c7b5-e9d0-4cf8-818f-176a3521c355"
      },
      "execution_count": 20,
      "outputs": [
        {
          "output_type": "stream",
          "name": "stdout",
          "text": [
            "{1, 2, 3, 4, 5}\n"
          ]
        }
      ]
    },
    {
      "cell_type": "code",
      "source": [
        "# Write a code to find the intersection of two sets {1, 2, 3} and {2, 3, 4}.\n",
        "set1 = {1, 2, 3}\n",
        "set2 = {2, 3, 4}\n",
        "intersection_set = set1.intersection(set2)\n",
        "print(intersection_set)\n"
      ],
      "metadata": {
        "colab": {
          "base_uri": "https://localhost:8080/"
        },
        "id": "Yp6T-5xOC5Rl",
        "outputId": "02326aff-81e8-419e-dbc9-e1687fedf248"
      },
      "execution_count": 21,
      "outputs": [
        {
          "output_type": "stream",
          "name": "stdout",
          "text": [
            "{2, 3}\n"
          ]
        }
      ]
    },
    {
      "cell_type": "code",
      "source": [
        "# Write a code to create a dictionary with the keys \"name\", \"age\", and \"city\", and print it.\n",
        "\n",
        "my_dict = {\"name\": \"ayush\",\"age\": 20,\"city\": \"delhi\"}\n",
        "print(my_dict)"
      ],
      "metadata": {
        "colab": {
          "base_uri": "https://localhost:8080/"
        },
        "id": "WFJQDbYsDOo0",
        "outputId": "263d309b-b45c-4846-a33f-431a5086e463"
      },
      "execution_count": 23,
      "outputs": [
        {
          "output_type": "stream",
          "name": "stdout",
          "text": [
            "{'name': 'ayush', 'age': 20, 'city': 'delhi'}\n"
          ]
        }
      ]
    },
    {
      "cell_type": "code",
      "source": [
        "# Write a code to add a new key-value pair \"country\": \"USA\" to the dictionary {'name': 'John', 'age': 25}.\n",
        "\n",
        "my_dict = {'name': 'John', 'age': 25}\n",
        "my_dict[\"country\"] = \"USA\"\n",
        "print(my_dict)\n"
      ],
      "metadata": {
        "colab": {
          "base_uri": "https://localhost:8080/"
        },
        "id": "yUXMTDkuDnfO",
        "outputId": "eb9faf9d-dc4a-4eb3-93c5-5c2098848983"
      },
      "execution_count": 24,
      "outputs": [
        {
          "output_type": "stream",
          "name": "stdout",
          "text": [
            "{'name': 'John', 'age': 25, 'country': 'USA'}\n"
          ]
        }
      ]
    },
    {
      "cell_type": "code",
      "source": [
        "# Write a code to access the value associated with the key \"name\" in the dictionary {'name': 'Alice', 'age': 30}.\n",
        "\n",
        "my_dict = {'name': 'Alice', 'age': 30}\n",
        "name_value = my_dict[\"name\"]\n",
        "\n",
        "print(name_value)\n"
      ],
      "metadata": {
        "colab": {
          "base_uri": "https://localhost:8080/"
        },
        "id": "x1NzbWaMD2ED",
        "outputId": "0139f686-b99f-470f-cf26-1903ae0be718"
      },
      "execution_count": 25,
      "outputs": [
        {
          "output_type": "stream",
          "name": "stdout",
          "text": [
            "Alice\n"
          ]
        }
      ]
    },
    {
      "cell_type": "code",
      "source": [
        "# Write a code to remove the key \"age\" from the dictionary {'name': 'Bob', 'age': 22, 'city': 'New York'}.\n",
        "my_dict = {'name': 'Bob', 'age': 22, 'city': 'New York'}\n",
        "del my_dict[\"age\"]\n",
        "print(my_dict)\n"
      ],
      "metadata": {
        "colab": {
          "base_uri": "https://localhost:8080/"
        },
        "id": "GLzsKJpvEChA",
        "outputId": "6b724acc-97c0-48c1-acb4-b4aa171335ab"
      },
      "execution_count": 26,
      "outputs": [
        {
          "output_type": "stream",
          "name": "stdout",
          "text": [
            "{'name': 'Bob', 'city': 'New York'}\n"
          ]
        }
      ]
    },
    {
      "cell_type": "code",
      "source": [
        "# Write a code to check if the key \"city\" exists in the dictionary {'name': 'Alice', 'city': 'Paris'}.\n",
        "my_dict = {'name': 'Alice', 'city': 'Paris'}\n",
        "if \"city\" in my_dict:\n",
        "    print(\"The key 'city' exists in the dictionary.\")\n",
        "else:\n",
        "    print(\"The key 'city' does not exist in the dictionary.\")\n",
        "\n"
      ],
      "metadata": {
        "colab": {
          "base_uri": "https://localhost:8080/"
        },
        "id": "gheGGdsxET1C",
        "outputId": "ff55149f-aeaf-4f62-a26a-134099674696"
      },
      "execution_count": 27,
      "outputs": [
        {
          "output_type": "stream",
          "name": "stdout",
          "text": [
            "The key 'city' exists in the dictionary.\n"
          ]
        }
      ]
    },
    {
      "cell_type": "code",
      "source": [
        "# Write a code to create a list, a tuple, and a dictionary, and print them all.\n",
        "\n",
        "my_list = [1, 2, 3, 4, 5]\n",
        "\n",
        "my_tuple = ('apple', 'banana', 'cherry')\n",
        "\n",
        "my_dict = {'name': 'ayush', 'age': 24, 'city': 'Pune'}\n",
        "\n",
        "print(\"List:\", my_list)\n",
        "print(\"Tuple:\", my_tuple)\n",
        "print(\"Dictionary:\", my_dict)\n",
        "\n"
      ],
      "metadata": {
        "colab": {
          "base_uri": "https://localhost:8080/"
        },
        "id": "KGy61rloEfM9",
        "outputId": "b64e3058-1dfe-47bb-9d15-e5abf4b46c01"
      },
      "execution_count": 30,
      "outputs": [
        {
          "output_type": "stream",
          "name": "stdout",
          "text": [
            "List: [1, 2, 3, 4, 5]\n",
            "Tuple: ('apple', 'banana', 'cherry')\n",
            "Dictionary: {'name': 'ayush', 'age': 24, 'city': 'Pune'}\n"
          ]
        }
      ]
    },
    {
      "cell_type": "code",
      "source": [
        "#  Write a code to create a list of 5 random numbers between 1 and 100, sort it in ascending order, and print the result.(replaced)\n",
        "\n",
        "import random\n",
        "random_numbers = [random.randint(1, 100) for _ in range(5)]\n",
        "random_numbers.sort()\n",
        "print(random_numbers)\n"
      ],
      "metadata": {
        "colab": {
          "base_uri": "https://localhost:8080/"
        },
        "id": "9-XKBkBiFMEI",
        "outputId": "a350f307-bf4e-4525-f1fe-e9771ecfaa8e"
      },
      "execution_count": 31,
      "outputs": [
        {
          "output_type": "stream",
          "name": "stdout",
          "text": [
            "[33, 74, 74, 75, 97]\n"
          ]
        }
      ]
    },
    {
      "cell_type": "code",
      "source": [
        "# Write a code to create a list with strings and print the element at the third index.\n",
        "\n",
        "my_list = [\"apple\", \"banana\", \"cherry\", \"date\", \"elderberry\"]\n",
        "print(my_list[2])"
      ],
      "metadata": {
        "colab": {
          "base_uri": "https://localhost:8080/"
        },
        "id": "G2KVN2xTFrig",
        "outputId": "f5705bc1-40de-4c0b-b410-5a5d8c5eac27"
      },
      "execution_count": 33,
      "outputs": [
        {
          "output_type": "stream",
          "name": "stdout",
          "text": [
            "cherry\n"
          ]
        }
      ]
    },
    {
      "cell_type": "code",
      "source": [
        "# Write a code to combine two dictionaries into one and print the result.\n",
        "\n",
        "dict1 = {'a': 1, 'b': 2}\n",
        "dict2 = {'c': 3, 'd': 4}\n",
        "\n",
        "combined_dict = {**dict1, **dict2}\n",
        "\n",
        "print(combined_dict)"
      ],
      "metadata": {
        "colab": {
          "base_uri": "https://localhost:8080/"
        },
        "id": "JWagN61_GCEv",
        "outputId": "502940e8-ef43-4ccb-e7f9-40b5eaf19d05"
      },
      "execution_count": 35,
      "outputs": [
        {
          "output_type": "stream",
          "name": "stdout",
          "text": [
            "{'a': 1, 'b': 2, 'c': 3, 'd': 4}\n"
          ]
        }
      ]
    },
    {
      "cell_type": "code",
      "source": [
        "# Write a code to convert a list of strings into a set.\n",
        "\n",
        "my_list = [\"apple\", \"banana\", \"cherry\", \"apple\", \"banana\"]\n",
        "my_set = set(my_list)\n",
        "\n",
        "print(my_set)\n"
      ],
      "metadata": {
        "colab": {
          "base_uri": "https://localhost:8080/"
        },
        "id": "xpl9R_FtOPD4",
        "outputId": "734491f8-57b2-402a-d434-ba77a0d29ac8"
      },
      "execution_count": 36,
      "outputs": [
        {
          "output_type": "stream",
          "name": "stdout",
          "text": [
            "{'apple', 'cherry', 'banana'}\n"
          ]
        }
      ]
    }
  ]
}